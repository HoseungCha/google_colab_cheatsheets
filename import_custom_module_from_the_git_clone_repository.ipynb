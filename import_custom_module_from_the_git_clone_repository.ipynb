{
  "nbformat": 4,
  "nbformat_minor": 0,
  "metadata": {
    "colab": {
      "name": "import custom module from the git clone repository.ipynb",
      "provenance": [],
      "authorship_tag": "ABX9TyM/rFAV35RkwOD4zAJMS6F+",
      "include_colab_link": true
    },
    "kernelspec": {
      "name": "python3",
      "display_name": "Python 3"
    }
  },
  "cells": [
    {
      "cell_type": "markdown",
      "metadata": {
        "id": "view-in-github",
        "colab_type": "text"
      },
      "source": [
        "<a href=\"https://colab.research.google.com/github/HoseungCha/google_colab_cheatsheets/blob/master/import_custom_module_from_the_git_clone_repository.ipynb\" target=\"_parent\"><img src=\"https://colab.research.google.com/assets/colab-badge.svg\" alt=\"Open In Colab\"/></a>"
      ]
    },
    {
      "cell_type": "markdown",
      "metadata": {
        "id": "8v_TUU8SFMkF",
        "colab_type": "text"
      },
      "source": [
        "# How to import custom module from the git clone repository\n",
        "**bold text**"
      ]
    },
    {
      "cell_type": "code",
      "metadata": {
        "id": "3BbA5RelFTX9",
        "colab_type": "code",
        "colab": {}
      },
      "source": [
        "import os\n",
        "import sys\n",
        "!git clone https://www.github.com/matterport/Mask_RCNN.git \n",
        "os.chdir(\"Mask_RCNN\")\n",
        "ROOT_DIR = \"/content\"\n",
        "sys.path.append(os.path.join(ROOT_DIR, 'Mask_RCNN'))\n",
        "from mrcnn.config import Config #here is your import"
      ],
      "execution_count": null,
      "outputs": []
    }
  ]
}